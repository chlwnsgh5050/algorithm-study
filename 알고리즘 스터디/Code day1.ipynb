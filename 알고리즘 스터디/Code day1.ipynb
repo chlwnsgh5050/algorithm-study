{
 "metadata": {
  "language_info": {
   "codemirror_mode": {
    "name": "ipython",
    "version": 3
   },
   "file_extension": ".py",
   "mimetype": "text/x-python",
   "name": "python",
   "nbconvert_exporter": "python",
   "pygments_lexer": "ipython3",
   "version": "3.8.6-final"
  },
  "orig_nbformat": 2,
  "kernelspec": {
   "name": "python3",
   "display_name": "Python 3.8.6 64-bit",
   "metadata": {
    "interpreter": {
     "hash": "5e8511e8f39f735f96b8bbf21632d4985e322eccee7a9678819442ae31072294"
    }
   }
  }
 },
 "nbformat": 4,
 "nbformat_minor": 2,
 "cells": [
  {
   "source": [
    "문제 설명\n",
    "두 정수 a, b가 주어졌을 때 a와 b 사이에 속한 모든 정수의 합을 리턴하는 함수, solution을 완성하세요.  \n",
    "예를 들어 a = 3, b = 5인 경우, 3 + 4 + 5 = 12이므로 12를 리턴합니다.  \n",
    "  \n",
    "제한 조건   \n",
    "a와 b가 같은 경우는 둘 중 아무 수나 리턴하세요.  \n",
    "a와 b는 -10,000,000 이상 10,000,000 이하인 정수입니다.  \n",
    "a와 b의 대소관계는 정해져있지 않습니다.  "
   ],
   "cell_type": "markdown",
   "metadata": {}
  },
  {
   "source": [
    "입출력 예  \n",
    "a\tb\treturn  \n",
    "3\t5\t12  \n",
    "3\t3\t3  \n",
    "5\t3\t12  "
   ],
   "cell_type": "markdown",
   "metadata": {}
  },
  {
   "source": [
    "def solution(a, b):\n",
    "    if a == b:\n",
    "        return a\n",
    "    elif a >= b:\n",
    "        c = 0\n",
    "        for i in range(b, a+1):\n",
    "            c += i\n",
    "        return c\n",
    "    else:\n",
    "        d = 0\n",
    "        for i in range(a, b+1):\n",
    "            d += i\n",
    "        return d"
   ],
   "cell_type": "code",
   "metadata": {},
   "execution_count": 1,
   "outputs": []
  },
  {
   "cell_type": "code",
   "execution_count": 2,
   "metadata": {},
   "outputs": [
    {
     "output_type": "execute_result",
     "data": {
      "text/plain": [
       "12"
      ]
     },
     "metadata": {},
     "execution_count": 2
    }
   ],
   "source": [
    "solution(3,5)"
   ]
  },
  {
   "cell_type": "code",
   "execution_count": 9,
   "metadata": {},
   "outputs": [],
   "source": [
    "# 다른 풀이\n",
    "def add(a,b):\n",
    "    return sum(range(min(a,b),max(a,b)+1))"
   ]
  },
  {
   "cell_type": "code",
   "execution_count": 10,
   "metadata": {},
   "outputs": [
    {
     "output_type": "execute_result",
     "data": {
      "text/plain": [
       "12"
      ]
     },
     "metadata": {},
     "execution_count": 10
    }
   ],
   "source": [
    "add(3,5)"
   ]
  },
  {
   "source": [
    "# 같은 숫자는 싫어"
   ],
   "cell_type": "markdown",
   "metadata": {}
  },
  {
   "source": [
    "문제 설명  \n",
    "배열 arr가 주어집니다. 배열 arr의 각 원소는 숫자 0부터 9까지로 이루어져 있습니다. 이때, 배열 arr에서 연속적으로 나타나는 숫자는 하나만 남기고 전부 제거하려고  합니다.   단, 제거된 후 남은 수들을 반환할 때는 배열 arr의 원소들의 순서를 유지해야 합니다. 예를 들면,  \n",
    "\n",
    "arr = [1, 1, 3, 3, 0, 1, 1] 이면 [1, 3, 0, 1] 을 return 합니다.  \n",
    "arr = [4, 4, 4, 3, 3] 이면 [4, 3] 을 return 합니다.  \n",
    "배열 arr에서 연속적으로 나타나는 숫자는 제거하고 남은 수들을 return 하는 solution 함수를 완성해 주세요.  \n",
    "\n",
    "제한사항  \n",
    "배열 arr의 크기 : 1,000,000 이하의 자연수  \n",
    "배열 arr의 원소의 크기 : 0보다 크거나 같고 9보다 작거나 같은 정수  "
   ],
   "cell_type": "markdown",
   "metadata": {}
  },
  {
   "source": [
    "arr\tanswer  \n",
    "[1,1,3,3,0,1,1]\t[1,3,0,1]  \n",
    "[4,4,4,3,3]\t[4,3]  "
   ],
   "cell_type": "markdown",
   "metadata": {}
  },
  {
   "cell_type": "code",
   "execution_count": 21,
   "metadata": {},
   "outputs": [],
   "source": [
    "def solution(arr):\n",
    "    answer = []\n",
    "    for i in range(len(arr)):\n",
    "        if arr[i] not in answer:\n",
    "            answer.append(arr[i])\n",
    "        else:\n",
    "            if arr[i-1] != arr[i]:\n",
    "                answer.append(arr[i])\n",
    "    return answer\n",
    "\n",
    "\n",
    "\n"
   ]
  },
  {
   "cell_type": "code",
   "execution_count": 22,
   "metadata": {},
   "outputs": [
    {
     "output_type": "execute_result",
     "data": {
      "text/plain": [
       "[1, 3, 0, 1]"
      ]
     },
     "metadata": {},
     "execution_count": 22
    }
   ],
   "source": [
    "solution([1,1,3,3,0,1,1])"
   ]
  },
  {
   "cell_type": "code",
   "execution_count": null,
   "metadata": {},
   "outputs": [],
   "source": []
  }
 ]
}